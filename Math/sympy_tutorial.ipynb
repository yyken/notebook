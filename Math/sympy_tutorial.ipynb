{
 "cells": [
  {
   "cell_type": "code",
   "execution_count": 1,
   "metadata": {
    "collapsed": true
   },
   "outputs": [],
   "source": [
    "%matplotlib inline\n",
    "import sympy\n",
    "from sympy import init_printing\n",
    "init_printing(use_latex='mathjax')"
   ]
  },
  {
   "cell_type": "code",
   "execution_count": 2,
   "metadata": {
    "collapsed": false
   },
   "outputs": [
    {
     "data": {
      "text/latex": [
       "$$1 - \\frac{x^{2}}{2} + \\frac{x^{4}}{24} - \\frac{x^{6}}{720} + \\frac{x^{8}}{40320} + \\mathcal{O}\\left(x^{10}\\right)$$"
      ],
      "text/plain": [
       "     2    4     6      8          \n",
       "    x    x     x      x      ⎛ 10⎞\n",
       "1 - ── + ── - ─── + ───── + O⎝x  ⎠\n",
       "    2    24   720   40320         "
      ]
     },
     "execution_count": 2,
     "metadata": {},
     "output_type": "execute_result"
    }
   ],
   "source": [
    "x = sympy.Symbol('x')\n",
    "sympy.cos(x).series(x, 0, 10)"
   ]
  },
  {
   "cell_type": "code",
   "execution_count": 3,
   "metadata": {
    "collapsed": false,
    "scrolled": true
   },
   "outputs": [
    {
     "data": {
      "text/latex": [
       "$$\\int \\sqrt{\\frac{1}{x}}\\, dx$$"
      ],
      "text/plain": [
       "⌠           \n",
       "⎮     ___   \n",
       "⎮    ╱ 1    \n",
       "⎮   ╱  ─  dx\n",
       "⎮ ╲╱   x    \n",
       "⌡           "
      ]
     },
     "execution_count": 3,
     "metadata": {},
     "output_type": "execute_result"
    }
   ],
   "source": [
    "sympy.Integral(sympy.sqrt(1/x),x)"
   ]
  },
  {
   "cell_type": "code",
   "execution_count": 4,
   "metadata": {
    "collapsed": false
   },
   "outputs": [
    {
     "data": {
      "text/latex": [
       "$$\\left [ \\left[\\begin{matrix}-15\\\\6\\\\1\\\\0\\\\0\\end{matrix}\\right], \\quad \\left[\\begin{matrix}0\\\\0\\\\0\\\\1\\\\0\\end{matrix}\\right], \\quad \\left[\\begin{matrix}1\\\\- \\frac{1}{2}\\\\0\\\\0\\\\1\\end{matrix}\\right]\\right ]$$"
      ],
      "text/plain": [
       "⎡⎡-15⎤, ⎡0⎤, ⎡ 1  ⎤⎤\n",
       "⎢⎢   ⎥  ⎢ ⎥  ⎢    ⎥⎥\n",
       "⎢⎢ 6 ⎥  ⎢0⎥  ⎢-1/2⎥⎥\n",
       "⎢⎢   ⎥  ⎢ ⎥  ⎢    ⎥⎥\n",
       "⎢⎢ 1 ⎥  ⎢0⎥  ⎢ 0  ⎥⎥\n",
       "⎢⎢   ⎥  ⎢ ⎥  ⎢    ⎥⎥\n",
       "⎢⎢ 0 ⎥  ⎢1⎥  ⎢ 0  ⎥⎥\n",
       "⎢⎢   ⎥  ⎢ ⎥  ⎢    ⎥⎥\n",
       "⎣⎣ 0 ⎦  ⎣0⎦  ⎣ 1  ⎦⎦"
      ]
     },
     "execution_count": 4,
     "metadata": {},
     "output_type": "execute_result"
    }
   ],
   "source": [
    "M = sympy.Matrix([[1, 2, 3, 0, 0], [4, 10, 0, 0, 1]])\n",
    "M.nullspace()"
   ]
  },
  {
   "cell_type": "code",
   "execution_count": 5,
   "metadata": {
    "collapsed": false
   },
   "outputs": [
    {
     "data": {
      "image/png": "[encoded data removed]",
      "text/plain": [
       "<matplotlib.figure.Figure at 0x106e956a0>"
      ]
     },
     "metadata": {},
     "output_type": "display_data"
    },
    {
     "data": {
      "text/plain": [
       "<sympy.plotting.plot.Plot at 0x106a29978>"
      ]
     },
     "execution_count": 5,
     "metadata": {},
     "output_type": "execute_result"
    }
   ],
   "source": [
    "sympy.plot(x, x**2, x**3, (x, -5, 5))"
   ]
  }
 ],
 "metadata": {
  "kernelspec": {
   "display_name": "Python 3",
   "language": "python",
   "name": "python3"
  },
  "language_info": {
   "codemirror_mode": {
    "name": "ipython",
    "version": 3
   },
   "file_extension": ".py",
   "mimetype": "text/x-python",
   "name": "python",
   "nbconvert_exporter": "python",
   "pygments_lexer": "ipython3",
   "version": "3.5.1"
  }
 },
 "nbformat": 4,
 "nbformat_minor": 0
}
