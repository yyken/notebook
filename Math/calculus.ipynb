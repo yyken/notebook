{
 "cells": [
  {
   "cell_type": "code",
   "execution_count": 1,
   "metadata": {
    "collapsed": true
   },
   "outputs": [],
   "source": [
    "%matplotlib inline\n",
    "import matplotlib as mlt\n",
    "import matplotlib.pyplot as plt\n",
    "#import mpld3\n",
    "#from mpld3 import plugins\n",
    "import numpy as np\n",
    "\n",
    "mlt.style.use('ggplot')\n",
    "#mpld3.enable_notebook()"
   ]
  },
  {
   "cell_type": "code",
   "execution_count": 16,
   "metadata": {
    "collapsed": false
   },
   "outputs": [
    {
     "data": {
      "text/plain": [
       "<matplotlib.text.Text at 0x1072e8940>"
      ]
     },
     "execution_count": 16,
     "metadata": {},
     "output_type": "execute_result"
    },
    {
     "data": {
      "image/png": "[encoded data removed]",
      "text/plain": [
       "<matplotlib.figure.Figure at 0x107243978>"
      ]
     },
     "metadata": {},
     "output_type": "display_data"
    }
   ],
   "source": [
    "f = lambda x: x**2-2*x-6\n",
    "x = np.linspace(0,5,100)\n",
    "y = f(x)\n",
    "\n",
    "plt.plot(x,y,'red')\n",
    "plt.grid('off')\n",
    "\n",
    "plt.axhline(y=2,xmin=0,xmax=0.8,linestyle=\"--\")\n",
    "plt.axvline(x=4,ymin=0,ymax=float(5)/9, linestyle = \"--\")\n",
    "\n",
    "plt.axhline(-6,3.7/5,4.3/5,linewidth = 2, color = 'black')\n",
    "plt.axvline(1,6.0/18,14.0/18,linewidth = 2, color = 'black')\n",
    "\n",
    "plt.axhspan(-2,6,0,(1+np.sqrt(13))/5,alpha = 0.15, ec = 'none')\n",
    "plt.axvspan((1+np.sqrt(5)),(1+np.sqrt(13)),0,1.0/3,alpha = 0.15, ec = 'none')\n",
    "\n",
    "plt.axhspan(f(3.7),f(4.3),0,4.3/5,alpha = 0.3, ec = 'none')\n",
    "plt.axvspan(3.7,4.3,0,(f(3.7)+8)/18,alpha = 0.3, ec = 'none')\n",
    "\n",
    "plt.axis([0,5,-8,10])\n",
    "\n",
    "\n",
    "plt.text(0.8,-1,r\"$\\epsilon$\", fontsize = 18)\n",
    "plt.text(0.8,4,r\"$\\epsilon$\", fontsize = 18)\n",
    "plt.text(3.75,-7.0,r\"$\\delta$\", fontsize = 18)\n",
    "plt.text(4.1,-7.0,r\"$\\delta$\", fontsize = 18)\n",
    "plt.text(3.95,-7.8,r\"$a$\", fontsize = 18)\n",
    "plt.text(4.5,8.5,r\"$f(x)$\", fontsize = 18,color=\"red\")"
   ]
  },
  {
   "cell_type": "code",
   "execution_count": 10,
   "metadata": {
    "collapsed": true
   },
   "outputs": [],
   "source": [
    "plt.axhline?"
   ]
  },
  {
   "cell_type": "code",
   "execution_count": null,
   "metadata": {
    "collapsed": true
   },
   "outputs": [],
   "source": []
  }
 ],
 "metadata": {
  "kernelspec": {
   "display_name": "Python 3",
   "language": "python",
   "name": "python3"
  },
  "language_info": {
   "codemirror_mode": {
    "name": "ipython",
    "version": 3
   },
   "file_extension": ".py",
   "mimetype": "text/x-python",
   "name": "python",
   "nbconvert_exporter": "python",
   "pygments_lexer": "ipython3",
   "version": "3.5.1"
  }
 },
 "nbformat": 4,
 "nbformat_minor": 0
}
