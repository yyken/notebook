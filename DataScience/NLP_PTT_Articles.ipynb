{
 "cells": [
  {
   "cell_type": "code",
   "execution_count": 1,
   "metadata": {
    "collapsed": true
   },
   "outputs": [],
   "source": [
    "%matplotlib inline\n",
    "import matplotlib as mlt\n",
    "import matplotlib.pyplot as plt\n",
    "\n",
    "import numpy as np\n",
    "import pandas as pd \n",
    "mlt.style.use('ggplot')"
   ]
  },
  {
   "cell_type": "code",
   "execution_count": 3,
   "metadata": {
    "collapsed": false
   },
   "outputs": [
    {
     "data": {
      "text/html": [
       "<div>\n",
       "<table border=\"1\" class=\"dataframe\">\n",
       "  <thead>\n",
       "    <tr style=\"text-align: right;\">\n",
       "      <th></th>\n",
       "      <th>Author</th>\n",
       "      <th>Board</th>\n",
       "      <th>Time</th>\n",
       "      <th>Title</th>\n",
       "      <th>_id</th>\n",
       "      <th>text</th>\n",
       "      <th>url</th>\n",
       "    </tr>\n",
       "  </thead>\n",
       "  <tbody>\n",
       "    <tr>\n",
       "      <th>0</th>\n",
       "      <td>andrew43 (apan)</td>\n",
       "      <td>R_Language</td>\n",
       "      <td>Mon Dec 23 14:43:26 2013</td>\n",
       "      <td>Re: [問題] 函數的output排版，與一些相關問題</td>\n",
       "      <td>{'$oid': '52d79c1674798d3ef637e58b'}</td>\n",
       "      <td>\\n不確定是不是你要的，但你試試看：\\n\\nsquare &lt;- function(x) ...</td>\n",
       "      <td>http://www.ptt.cc/bbs/R_Language/M.1387781010....</td>\n",
       "    </tr>\n",
       "    <tr>\n",
       "      <th>1</th>\n",
       "      <td>koai (可笑的自以為...)</td>\n",
       "      <td>R_Language</td>\n",
       "      <td>Mon Dec 23 18:13:01 2013</td>\n",
       "      <td>[問題] 請教 RHadoop 高手</td>\n",
       "      <td>{'$oid': '52d79c1674798d3ef637e58c'}</td>\n",
       "      <td>\\n\\n[問題類型]:\\n程式諮詢(我想用R 做某件事情，但是我不知道要怎麼用R 寫出來...</td>\n",
       "      <td>http://www.ptt.cc/bbs/R_Language/M.1387793585....</td>\n",
       "    </tr>\n",
       "    <tr>\n",
       "      <th>2</th>\n",
       "      <td>tai34 (tai)</td>\n",
       "      <td>R_Language</td>\n",
       "      <td>Thu Dec 26 00:19:28 2013</td>\n",
       "      <td>[問題] gam 跑出錯誤訊息</td>\n",
       "      <td>{'$oid': '52d79c1674798d3ef637e58d'}</td>\n",
       "      <td>\\n[軟體熟悉度]:\\n新手(沒寫過程式，R 是我的第一次)\\n\\n[問題敘述]:\\n我...</td>\n",
       "      <td>http://www.ptt.cc/bbs/R_Language/M.1387988371....</td>\n",
       "    </tr>\n",
       "    <tr>\n",
       "      <th>3</th>\n",
       "      <td>tai34 (tai)</td>\n",
       "      <td>R_Language</td>\n",
       "      <td>Fri Dec 27 19:16:25 2013</td>\n",
       "      <td>Re: [問題] gam 跑出錯誤訊息</td>\n",
       "      <td>{'$oid': '52d79c1674798d3ef637e58e'}</td>\n",
       "      <td>\\n小弟解決問題了! (其實就是自己粗心的 k 值打錯了...\\n\\n另開文章來回覆 x...</td>\n",
       "      <td>http://www.ptt.cc/bbs/R_Language/M.1388142988....</td>\n",
       "    </tr>\n",
       "    <tr>\n",
       "      <th>4</th>\n",
       "      <td>Bullone (竹)</td>\n",
       "      <td>R_Language</td>\n",
       "      <td>Mon Dec 30 13:43:54 2013</td>\n",
       "      <td>[自介]各位前輩們大家好</td>\n",
       "      <td>{'$oid': '52d79c1674798d3ef637e58f'}</td>\n",
       "      <td>\\n大家好，我是 frank。\\n\\n目前在就讀長庚傳醫所，因為對opensource有...</td>\n",
       "      <td>http://www.ptt.cc/bbs/R_Language/M.1388382237....</td>\n",
       "    </tr>\n",
       "    <tr>\n",
       "      <th>5</th>\n",
       "      <td>tai34 (tai)</td>\n",
       "      <td>R_Language</td>\n",
       "      <td>Thu Jan  2 17:37:55 2014</td>\n",
       "      <td>[問題] Spatial data 轉換成 raster</td>\n",
       "      <td>{'$oid': '52d79c1674798d3ef637e590'}</td>\n",
       "      <td>\\n[問題類型]:\\n程式諮詢(我想用R 做某件事情，但是我不知道要怎麼用R 寫出來)\\...</td>\n",
       "      <td>http://www.ptt.cc/bbs/R_Language/M.1388655477....</td>\n",
       "    </tr>\n",
       "    <tr>\n",
       "      <th>6</th>\n",
       "      <td>Dboy (廢物)</td>\n",
       "      <td>R_Language</td>\n",
       "      <td>Fri Jan  3 11:23:08 2014</td>\n",
       "      <td>[問題] Browse[N]&gt;</td>\n",
       "      <td>{'$oid': '52d79c1674798d3ef637e591'}</td>\n",
       "      <td>\\n\\n程式諮詢\\n(我想用R 做某件事情，但是我不知道要怎麼用R 寫出來)\\n\\n[軟...</td>\n",
       "      <td>http://www.ptt.cc/bbs/R_Language/M.1388719391....</td>\n",
       "    </tr>\n",
       "    <tr>\n",
       "      <th>7</th>\n",
       "      <td>sinasass (廣廣)</td>\n",
       "      <td>R_Language</td>\n",
       "      <td>Sun Jan  5 00:20:35 2014</td>\n",
       "      <td>[問題] 想請問R有關函數的問題</td>\n",
       "      <td>{'$oid': '52d79c1674798d3ef637e592'}</td>\n",
       "      <td>\\n[問題類型]:\\n程式諮詢(我想用R 做某件事情，但是我不知道要怎麼用R 寫出來)\\...</td>\n",
       "      <td>http://www.ptt.cc/bbs/R_Language/M.1388852438....</td>\n",
       "    </tr>\n",
       "    <tr>\n",
       "      <th>8</th>\n",
       "      <td>andrew43 (apan)</td>\n",
       "      <td>R_Language</td>\n",
       "      <td>Sun Jan  5 16:59:27 2014</td>\n",
       "      <td>Re: [問題] 想請問R有關函數的問題</td>\n",
       "      <td>{'$oid': '52d79c1674798d3ef637e593'}</td>\n",
       "      <td>\\n※ 引述《sinasass (廣廣)》之銘言：: [問題類型]:: 程式諮詢(我想用...</td>\n",
       "      <td>http://www.ptt.cc/bbs/R_Language/M.1388912370....</td>\n",
       "    </tr>\n",
       "    <tr>\n",
       "      <th>9</th>\n",
       "      <td>min102257 (暱稱)</td>\n",
       "      <td>R_Language</td>\n",
       "      <td>Wed Jan  8 01:28:33 2014</td>\n",
       "      <td>[問題] grep 字串配對問題</td>\n",
       "      <td>{'$oid': '52d79c1674798d3ef637e594'}</td>\n",
       "      <td>\\n\\n小弟有個問題 請教各位\\n\\n假設 我想知道某文字 例: as在文章裡的位置\\n...</td>\n",
       "      <td>http://www.ptt.cc/bbs/R_Language/M.1389115716....</td>\n",
       "    </tr>\n",
       "  </tbody>\n",
       "</table>\n",
       "</div>"
      ],
      "text/plain": [
       "             Author       Board                      Time  \\\n",
       "0   andrew43 (apan)  R_Language  Mon Dec 23 14:43:26 2013   \n",
       "1  koai (可笑的自以為...)  R_Language  Mon Dec 23 18:13:01 2013   \n",
       "2       tai34 (tai)  R_Language  Thu Dec 26 00:19:28 2013   \n",
       "3       tai34 (tai)  R_Language  Fri Dec 27 19:16:25 2013   \n",
       "4       Bullone (竹)  R_Language  Mon Dec 30 13:43:54 2013   \n",
       "5       tai34 (tai)  R_Language  Thu Jan  2 17:37:55 2014   \n",
       "6         Dboy (廢物)  R_Language  Fri Jan  3 11:23:08 2014   \n",
       "7     sinasass (廣廣)  R_Language  Sun Jan  5 00:20:35 2014   \n",
       "8   andrew43 (apan)  R_Language  Sun Jan  5 16:59:27 2014   \n",
       "9    min102257 (暱稱)  R_Language  Wed Jan  8 01:28:33 2014   \n",
       "\n",
       "                          Title                                   _id  \\\n",
       "0  Re: [問題] 函數的output排版，與一些相關問題  {'$oid': '52d79c1674798d3ef637e58b'}   \n",
       "1            [問題] 請教 RHadoop 高手  {'$oid': '52d79c1674798d3ef637e58c'}   \n",
       "2               [問題] gam 跑出錯誤訊息  {'$oid': '52d79c1674798d3ef637e58d'}   \n",
       "3           Re: [問題] gam 跑出錯誤訊息  {'$oid': '52d79c1674798d3ef637e58e'}   \n",
       "4                  [自介]各位前輩們大家好  {'$oid': '52d79c1674798d3ef637e58f'}   \n",
       "5  [問題] Spatial data 轉換成 raster  {'$oid': '52d79c1674798d3ef637e590'}   \n",
       "6               [問題] Browse[N]>  {'$oid': '52d79c1674798d3ef637e591'}   \n",
       "7              [問題] 想請問R有關函數的問題  {'$oid': '52d79c1674798d3ef637e592'}   \n",
       "8          Re: [問題] 想請問R有關函數的問題  {'$oid': '52d79c1674798d3ef637e593'}   \n",
       "9              [問題] grep 字串配對問題  {'$oid': '52d79c1674798d3ef637e594'}   \n",
       "\n",
       "                                                text  \\\n",
       "0    \\n不確定是不是你要的，但你試試看：\\n\\nsquare <- function(x) ...   \n",
       "1    \\n\\n[問題類型]:\\n程式諮詢(我想用R 做某件事情，但是我不知道要怎麼用R 寫出來...   \n",
       "2    \\n[軟體熟悉度]:\\n新手(沒寫過程式，R 是我的第一次)\\n\\n[問題敘述]:\\n我...   \n",
       "3    \\n小弟解決問題了! (其實就是自己粗心的 k 值打錯了...\\n\\n另開文章來回覆 x...   \n",
       "4    \\n大家好，我是 frank。\\n\\n目前在就讀長庚傳醫所，因為對opensource有...   \n",
       "5    \\n[問題類型]:\\n程式諮詢(我想用R 做某件事情，但是我不知道要怎麼用R 寫出來)\\...   \n",
       "6    \\n\\n程式諮詢\\n(我想用R 做某件事情，但是我不知道要怎麼用R 寫出來)\\n\\n[軟...   \n",
       "7    \\n[問題類型]:\\n程式諮詢(我想用R 做某件事情，但是我不知道要怎麼用R 寫出來)\\...   \n",
       "8    \\n※ 引述《sinasass (廣廣)》之銘言：: [問題類型]:: 程式諮詢(我想用...   \n",
       "9    \\n\\n小弟有個問題 請教各位\\n\\n假設 我想知道某文字 例: as在文章裡的位置\\n...   \n",
       "\n",
       "                                                 url  \n",
       "0  http://www.ptt.cc/bbs/R_Language/M.1387781010....  \n",
       "1  http://www.ptt.cc/bbs/R_Language/M.1387793585....  \n",
       "2  http://www.ptt.cc/bbs/R_Language/M.1387988371....  \n",
       "3  http://www.ptt.cc/bbs/R_Language/M.1388142988....  \n",
       "4  http://www.ptt.cc/bbs/R_Language/M.1388382237....  \n",
       "5  http://www.ptt.cc/bbs/R_Language/M.1388655477....  \n",
       "6  http://www.ptt.cc/bbs/R_Language/M.1388719391....  \n",
       "7  http://www.ptt.cc/bbs/R_Language/M.1388852438....  \n",
       "8  http://www.ptt.cc/bbs/R_Language/M.1388912370....  \n",
       "9  http://www.ptt.cc/bbs/R_Language/M.1389115716....  "
      ]
     },
     "execution_count": 3,
     "metadata": {},
     "output_type": "execute_result"
    }
   ],
   "source": [
    "df = pd.read_json('~/Projects/dataset/ptt_articles.json')\n",
    "df.head(10)"
   ]
  },
  {
   "cell_type": "code",
   "execution_count": 5,
   "metadata": {
    "collapsed": false
   },
   "outputs": [
    {
     "data": {
      "text/plain": [
       "'Re: [問題] 函數的output排版，與一些相關問題'"
      ]
     },
     "execution_count": 5,
     "metadata": {},
     "output_type": "execute_result"
    }
   ],
   "source": [
    "test = df[\"Title\"][0]\n",
    "test"
   ]
  },
  {
   "cell_type": "code",
   "execution_count": 7,
   "metadata": {
    "collapsed": false
   },
   "outputs": [
    {
     "name": "stdout",
     "output_type": "stream",
     "text": [
      "Re: [問題] 函數的output排版，與一些相關問題\n",
      "<generator object <lambda>.<locals>.<genexpr> at 0x1083e7c50>\n",
      "Re:\n",
      "e: \n",
      ": [\n",
      " [問\n",
      "[問題\n",
      "問題]\n",
      "題] \n",
      "] 函\n",
      " 函數\n",
      "函數的\n",
      "數的o\n",
      "的ou\n",
      "out\n",
      "utp\n",
      "tpu\n",
      "put\n",
      "ut排\n",
      "t排版\n",
      "排版，\n",
      "版，與\n",
      "，與一\n",
      "與一些\n",
      "一些相\n",
      "些相關\n",
      "相關問\n",
      "關問題\n"
     ]
    }
   ],
   "source": [
    "print (test)\n",
    "# n = 3\n",
    "# len_text = len(test)\n",
    "# vec_size = len_text - n + 1\n",
    "\n",
    "# for k in range(len_text-n+1):\n",
    "#     print test[k:k+n]\n",
    "\n",
    "\n",
    "ngram = lambda text, n: (text[k:k+n] for k in range(len(text)-n+1))\n",
    "\n",
    "filtered_ngram = lambda text, n, filter_list=[]: (text[k:k+n] for k in range(len(text)-n+1) if not((text[k:k+n] in filter_list) and (len(text)>n)))\n",
    "# ngram = lambda text, n, filter_list=[]: [text[k:k+n] for k in range(len(text)-n+1) if not(text[k:k+n] in filter_list)]\n",
    "print (ngram(test,2))\n",
    "\n",
    "\n",
    "# def ngram(text, n, filter_list=[]):\n",
    "#     print \"text = \",text\n",
    "#     print \"len(text) = \",len(text)\n",
    "#     for k in range(len(text)-n+1) :\n",
    "#         if not((text[k:k+n] in filter_list) and len(text)<n):\n",
    "            \n",
    "    \n",
    "\n",
    "\n",
    "# print \"\\n\".join(filtered_ngram(test,3))\n",
    "print (\"\\n\".join(filtered_ngram(test,3, [u\"[出售\"])))"
   ]
  },
  {
   "cell_type": "code",
   "execution_count": 11,
   "metadata": {
    "collapsed": false
   },
   "outputs": [
    {
     "name": "stdout",
     "output_type": "stream",
     "text": [
      "Re:\n",
      "e: \n",
      ": [\n",
      " [問\n",
      "[問題\n",
      "問題]\n",
      "題] \n",
      "] 函\n",
      " 函數\n",
      "函數的\n",
      "數的o\n",
      "的ou\n",
      "out\n",
      "utp\n",
      "tpu\n",
      "put\n",
      "ut排\n",
      "t排版\n",
      "排版，\n",
      "版，與\n",
      "，與一\n",
      "與一些\n",
      "一些相\n",
      "些相關\n",
      "相關問\n",
      "關問題\n"
     ]
    }
   ],
   "source": [
    "def tokenize(text):\n",
    "    if isinstance(text,str):\n",
    "        n = 3\n",
    "        return ngram(text,n)\n",
    "#         return [xx for xx in ngram(text,n) if len(xx.strip()) == n]\n",
    "    else:\n",
    "        return []\n",
    "\n",
    "print (\"\\n\".join(tokenize(df[\"Title\"][0])))"
   ]
  },
  {
   "cell_type": "code",
   "execution_count": 12,
   "metadata": {
    "collapsed": true
   },
   "outputs": [],
   "source": [
    "from sklearn.feature_extraction.text import CountVectorizer, TfidfVectorizer\n",
    "vec_count = CountVectorizer(tokenizer=tokenize,lowercase=False)\n",
    "vec_tfidf = TfidfVectorizer(tokenizer=tokenize,lowercase=False)"
   ]
  },
  {
   "cell_type": "code",
   "execution_count": 13,
   "metadata": {
    "collapsed": false
   },
   "outputs": [
    {
     "name": "stdout",
     "output_type": "stream",
     "text": [
      "(552, 7)\n"
     ]
    },
    {
     "data": {
      "text/plain": [
       "Board\n",
       "BuyTogether    205\n",
       "R_Language     139\n",
       "dtype: int64"
      ]
     },
     "execution_count": 13,
     "metadata": {},
     "output_type": "execute_result"
    }
   ],
   "source": [
    "print (df.shape)\n",
    "boards_n_posts = df.groupby(\"Board\").size()\n",
    "boards_n_posts"
   ]
  },
  {
   "cell_type": "code",
   "execution_count": 14,
   "metadata": {
    "collapsed": false
   },
   "outputs": [
    {
     "data": {
      "text/plain": [
       "Index(['BuyTogether', 'R_Language'], dtype='object', name='Board')"
      ]
     },
     "execution_count": 14,
     "metadata": {},
     "output_type": "execute_result"
    }
   ],
   "source": [
    "boards = boards_n_posts.index\n",
    "boards"
   ]
  },
  {
   "cell_type": "code",
   "execution_count": null,
   "metadata": {
    "collapsed": true
   },
   "outputs": [],
   "source": []
  }
 ],
 "metadata": {
  "kernelspec": {
   "display_name": "Python 3",
   "language": "python",
   "name": "python3"
  },
  "language_info": {
   "codemirror_mode": {
    "name": "ipython",
    "version": 3
   },
   "file_extension": ".py",
   "mimetype": "text/x-python",
   "name": "python",
   "nbconvert_exporter": "python",
   "pygments_lexer": "ipython3",
   "version": "3.5.1"
  }
 },
 "nbformat": 4,
 "nbformat_minor": 0
}
