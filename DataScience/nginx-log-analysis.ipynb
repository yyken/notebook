{
 "cells": [
  {
   "cell_type": "markdown",
   "metadata": {},
   "source": [
    "# Nginx log analysis with pandas and matplotlib"
   ]
  },
  {
   "cell_type": "markdown",
   "metadata": {},
   "source": [
    "By Jess Johnson [http://grokcode.com](http://grokcode.com)\n",
    "\n",
    "This notebook analyzes Nginx access logs in order to estimate the capacity needed to survive a traffic spike. I'm looking at access logs for [Author Alcove](http://authoralcove.com) which was hit by a big traffic spike when it spent around 24 hours at the top of [/r/books](http://reddit.com/r/books/). The site was hugged to death by reddit. Visitors experienced very slow load times, and many people couldn't access the site at all due to 50x errors. So let's estimate how much extra capacity would be needed to survive this spike.\n",
    "\n",
    "The source for this notebook is located on [github](https://github.com/grokcode/ipython-notebooks). See a mistake? Pull requests welcome.\n",
    "\n",
    "Thanks to Nikolay Koldunov for his [notebook on Apache log analysis](http://nbviewer.ipython.org/github/koldunovn/nk_public_notebooks/blob/master/Apache_log.ipynb), and thanks to my bro Aaron for the much needed optimism and server optimization tips while everything was on fire.\n",
    "\n",
    "OK let's get started."
   ]
  },
  {
   "cell_type": "markdown",
   "metadata": {},
   "source": [
    "## Setup"
   ]
  },
  {
   "cell_type": "code",
   "execution_count": 1,
   "metadata": {
    "collapsed": false
   },
   "outputs": [
    {
     "name": "stdout",
     "output_type": "stream",
     "text": [
      "Populating the interactive namespace from numpy and matplotlib\n"
     ]
    }
   ],
   "source": [
    "%pylab inline"
   ]
  },
  {
   "cell_type": "markdown",
   "metadata": {},
   "source": [
    "Let's import the usual suspects."
   ]
  },
  {
   "cell_type": "code",
   "execution_count": 2,
   "metadata": {
    "collapsed": false
   },
   "outputs": [],
   "source": [
    "import pandas as pd\n",
    "import numpy as np\n",
    "import sys\n",
    "import matplotlib.pyplot as plt"
   ]
  },
  {
   "cell_type": "markdown",
   "metadata": {},
   "source": [
    "We will also use [apachelog](https://code.google.com/p/apachelog/), which is a module for parsing apache logs, but it works fine with nginx logs as long as we give it the right format string. You can install it with `pip install apachelog`.  "
   ]
  },
  {
   "cell_type": "code",
   "execution_count": null,
   "metadata": {
    "collapsed": false
   },
   "outputs": [],
   "source": [
    "import apachelog"
   ]
  },
  {
   "cell_type": "markdown",
   "metadata": {},
   "source": [
    "## Parsing the log"
   ]
  },
  {
   "cell_type": "markdown",
   "metadata": {},
   "source": [
    "I started out by doing some command line preprocessing on the log in order to remove bots. I used `egrep -v` to filter out the bots that were hitting the site the most often. These were Googlebot, Bingbot, the New Relic uptime checker, Buidu spider, and a few others. A more careful approach would filter out everything on one of the known bot lists ([like this one](http://www.robotstxt.org/db.html)), but I'm going to play it a bit fast and loose.\n",
    "\n",
    "First of all let's get a sample line out of the `access.log` and try to parse it. Here is a description of the codes in the log format we are working with:\n",
    "\n",
    "    %h          - remote host (ie the client IP)\n",
    "    %l          - identity of the user determined by identd (not usually used since not reliable)\n",
    "    %u          - user name determined by HTTP authentication\n",
    "    %t          - time the server finished processing the request.\n",
    "    %r          - request line from the client. (\"GET / HTTP/1.0\")\n",
    "    %>s         - status code sent from the server to the client (200, 404 etc.)\n",
    "    %b          - size of the response to the client (in bytes)\n",
    "    %i      - Referer is the page that linked to this URL.\n",
    "    User-agent  - the browser identification string\n",
    "    %V          - the server name according to the UseCanonicalName setting"
   ]
  },
  {
   "cell_type": "code",
   "execution_count": 3,
   "metadata": {
    "collapsed": false
   },
   "outputs": [
    {
     "data": {
      "text/plain": [
       "{'%>s': '200',\n",
       " '%V': '-',\n",
       " '%b': '10427',\n",
       " '%h': '178.137.91.215',\n",
       " '%i': 'http://authoralcove.com/work/homepages-maths-year-6/',\n",
       " '%l': '-',\n",
       " '%r': 'GET /work/homepages-maths-year-6/ HTTP/1.0',\n",
       " '%t': '[21/Feb/2014:06:44:53 +0000]',\n",
       " '%u': '-',\n",
       " '%{User-Agent}i': 'Opera/9.80 (Windows NT 6.1; WOW64; U; ru) Presto/2.10.289 Version/12.00'}"
      ]
     },
     "execution_count": 3,
     "metadata": {},
     "output_type": "execute_result"
    }
   ],
   "source": [
    "sample_string = '178.137.91.215 - - [21/Feb/2014:06:44:53 +0000] \"GET /work/homepages-maths-year-6/ HTTP/1.0\" \\\n",
    "200 10427 \"http://authoralcove.com/work/homepages-maths-year-6/\" \"Opera/9.80 (Windows NT 6.1; WOW64; U; ru) \\\n",
    "Presto/2.10.289 Version/12.00\" \"-\"'\n",
    "nformat = r'%h %l %u %t \\\"%r\\\" %>s %b \\\"%i\\\" \\\"%{User-Agent}i\\\" \\\"%V\\\"'\n",
    "p = apachelog.parser(nformat)\n",
    "data = p.parse(sample_string)\n",
    "data"
   ]
  },
  {
   "cell_type": "markdown",
   "metadata": {},
   "source": [
    "Now let's parse each line while preparing the access time so that pandas will be able to handle it."
   ]
  },
  {
   "cell_type": "code",
   "execution_count": 4,
   "metadata": {
    "collapsed": false
   },
   "outputs": [],
   "source": [
    "from apachelog import ApacheLogParserError\n",
    "log_list = []\n",
    "with open('./private-data/access.log') as f:\n",
    "    for line in f.readlines():\n",
    "        try:\n",
    "            data = p.parse(line)\n",
    "        except ApacheLogParserError:\n",
    "            sys.stderr.write(\"Unable to parse %s\" % line)\n",
    "        data['%t'] = data['%t'][1:12]+' '+data['%t'][13:21]+' '+data['%t'][22:27]\n",
    "        log_list.append(data)"
   ]
  },
  {
   "cell_type": "markdown",
   "metadata": {},
   "source": [
    "Loading into pandas."
   ]
  },
  {
   "cell_type": "code",
   "execution_count": 5,
   "metadata": {
    "collapsed": false
   },
   "outputs": [
    {
     "data": {
      "text/html": [
       "<div style=\"max-height:1000px;max-width:1500px;overflow:auto;\">\n",
       "<table border=\"1\" class=\"dataframe\">\n",
       "  <thead>\n",
       "    <tr style=\"text-align: right;\">\n",
       "      <th></th>\n",
       "      <th>%&gt;s</th>\n",
       "      <th>%V</th>\n",
       "      <th>%b</th>\n",
       "      <th>%h</th>\n",
       "      <th>%i</th>\n",
       "      <th>%l</th>\n",
       "      <th>%r</th>\n",
       "      <th>%t</th>\n",
       "      <th>%u</th>\n",
       "      <th>%{User-Agent}i</th>\n",
       "    </tr>\n",
       "  </thead>\n",
       "  <tbody>\n",
       "    <tr>\n",
       "      <th>0</th>\n",
       "      <td> 200</td>\n",
       "      <td> -</td>\n",
       "      <td> 10427</td>\n",
       "      <td> 178.137.91.215</td>\n",
       "      <td> http://authoralcove.com/work/homepages-maths-y...</td>\n",
       "      <td> -</td>\n",
       "      <td> GET /work/homepages-maths-year-6/ HTTP/1.0</td>\n",
       "      <td> 21/Feb/2014 06:44:53 +0000</td>\n",
       "      <td> -</td>\n",
       "      <td> Opera/9.80 (Windows NT 6.1; WOW64; U; ru) Pres...</td>\n",
       "    </tr>\n",
       "    <tr>\n",
       "      <th>1</th>\n",
       "      <td> 200</td>\n",
       "      <td> -</td>\n",
       "      <td>  7507</td>\n",
       "      <td>   202.46.54.40</td>\n",
       "      <td>                                                 -</td>\n",
       "      <td> -</td>\n",
       "      <td>                             GET / HTTP/1.1</td>\n",
       "      <td> 21/Feb/2014 06:53:47 +0000</td>\n",
       "      <td> -</td>\n",
       "      <td> Mozilla/4.0 (compatible; MSIE 7.0; Windows NT ...</td>\n",
       "    </tr>\n",
       "  </tbody>\n",
       "</table>\n",
       "<p>2 rows × 10 columns</p>\n",
       "</div>"
      ],
      "text/plain": [
       "   %>s %V     %b              %h  \\\n",
       "0  200  -  10427  178.137.91.215   \n",
       "1  200  -   7507    202.46.54.40   \n",
       "\n",
       "                                                  %i %l  \\\n",
       "0  http://authoralcove.com/work/homepages-maths-y...  -   \n",
       "1                                                  -  -   \n",
       "\n",
       "                                           %r                          %t %u  \\\n",
       "0  GET /work/homepages-maths-year-6/ HTTP/1.0  21/Feb/2014 06:44:53 +0000  -   \n",
       "1                              GET / HTTP/1.1  21/Feb/2014 06:53:47 +0000  -   \n",
       "\n",
       "                                      %{User-Agent}i  \n",
       "0  Opera/9.80 (Windows NT 6.1; WOW64; U; ru) Pres...  \n",
       "1  Mozilla/4.0 (compatible; MSIE 7.0; Windows NT ...  \n",
       "\n",
       "[2 rows x 10 columns]"
      ]
     },
     "execution_count": 5,
     "metadata": {},
     "output_type": "execute_result"
    }
   ],
   "source": [
    "from pandas import Series, DataFrame, Panel\n",
    "df = DataFrame(log_list)\n",
    "df[0:2]"
   ]
  },
  {
   "cell_type": "markdown",
   "metadata": {},
   "source": [
    "Now lets clean up the pandas dataframe a bit by deleting some columns we aren't interested in and renaming the remaining columns."
   ]
  },
  {
   "cell_type": "code",
   "execution_count": 6,
   "metadata": {
    "collapsed": false
   },
   "outputs": [
    {
     "data": {
      "text/html": [
       "<div style=\"max-height:1000px;max-width:1500px;overflow:auto;\">\n",
       "<table border=\"1\" class=\"dataframe\">\n",
       "  <thead>\n",
       "    <tr style=\"text-align: right;\">\n",
       "      <th></th>\n",
       "      <th>%&gt;s</th>\n",
       "      <th>%b</th>\n",
       "      <th>%r</th>\n",
       "      <th>%t</th>\n",
       "    </tr>\n",
       "  </thead>\n",
       "  <tbody>\n",
       "    <tr>\n",
       "      <th>0</th>\n",
       "      <td> 200</td>\n",
       "      <td> 10427</td>\n",
       "      <td> GET /work/homepages-maths-year-6/ HTTP/1.0</td>\n",
       "      <td> 21/Feb/2014 06:44:53 +0000</td>\n",
       "    </tr>\n",
       "    <tr>\n",
       "      <th>1</th>\n",
       "      <td> 200</td>\n",
       "      <td>  7507</td>\n",
       "      <td>                             GET / HTTP/1.1</td>\n",
       "      <td> 21/Feb/2014 06:53:47 +0000</td>\n",
       "    </tr>\n",
       "  </tbody>\n",
       "</table>\n",
       "<p>2 rows × 4 columns</p>\n",
       "</div>"
      ],
      "text/plain": [
       "   %>s     %b                                          %r  \\\n",
       "0  200  10427  GET /work/homepages-maths-year-6/ HTTP/1.0   \n",
       "1  200   7507                              GET / HTTP/1.1   \n",
       "\n",
       "                           %t  \n",
       "0  21/Feb/2014 06:44:53 +0000  \n",
       "1  21/Feb/2014 06:53:47 +0000  \n",
       "\n",
       "[2 rows x 4 columns]"
      ]
     },
     "execution_count": 6,
     "metadata": {},
     "output_type": "execute_result"
    }
   ],
   "source": [
    "del df['%V']\n",
    "del df['%h']\n",
    "del df['%i']\n",
    "del df['%l']\n",
    "del df['%u']\n",
    "del df['%{User-Agent}i']\n",
    "df[0:2]"
   ]
  },
  {
   "cell_type": "code",
   "execution_count": 7,
   "metadata": {
    "collapsed": false
   },
   "outputs": [
    {
     "data": {
      "text/html": [
       "<div style=\"max-height:1000px;max-width:1500px;overflow:auto;\">\n",
       "<table border=\"1\" class=\"dataframe\">\n",
       "  <thead>\n",
       "    <tr style=\"text-align: right;\">\n",
       "      <th></th>\n",
       "      <th>Status</th>\n",
       "      <th>b</th>\n",
       "      <th>Request</th>\n",
       "      <th>Time</th>\n",
       "    </tr>\n",
       "  </thead>\n",
       "  <tbody>\n",
       "    <tr>\n",
       "      <th>0</th>\n",
       "      <td> 200</td>\n",
       "      <td> 10427</td>\n",
       "      <td> GET /work/homepages-maths-year-6/ HTTP/1.0</td>\n",
       "      <td> 21/Feb/2014 06:44:53 +0000</td>\n",
       "    </tr>\n",
       "    <tr>\n",
       "      <th>1</th>\n",
       "      <td> 200</td>\n",
       "      <td>  7507</td>\n",
       "      <td>                             GET / HTTP/1.1</td>\n",
       "      <td> 21/Feb/2014 06:53:47 +0000</td>\n",
       "    </tr>\n",
       "  </tbody>\n",
       "</table>\n",
       "<p>2 rows × 4 columns</p>\n",
       "</div>"
      ],
      "text/plain": [
       "  Status      b                                     Request  \\\n",
       "0    200  10427  GET /work/homepages-maths-year-6/ HTTP/1.0   \n",
       "1    200   7507                              GET / HTTP/1.1   \n",
       "\n",
       "                         Time  \n",
       "0  21/Feb/2014 06:44:53 +0000  \n",
       "1  21/Feb/2014 06:53:47 +0000  \n",
       "\n",
       "[2 rows x 4 columns]"
      ]
     },
     "execution_count": 7,
     "metadata": {},
     "output_type": "execute_result"
    }
   ],
   "source": [
    "df = df.rename(columns={'%>s': 'Status', '%b':'b', \n",
    "                        '%r':'Request', '%t': 'Time'})\n",
    "df[0:2]"
   ]
  },
  {
   "cell_type": "markdown",
   "metadata": {},
   "source": [
    "Massage the data a bit more so that the access time is a `datetime`, status is an `int`, and the response size is in MB, with missing data represented as `NaN`, not `-`."
   ]
  },
  {
   "cell_type": "code",
   "execution_count": 8,
   "metadata": {
    "collapsed": false
   },
   "outputs": [],
   "source": [
    "df.index = pd.to_datetime(df.pop('Time'))"
   ]
  },
  {
   "cell_type": "code",
   "execution_count": 9,
   "metadata": {
    "collapsed": false
   },
   "outputs": [],
   "source": [
    "df['Status'] = df['Status'].astype('int')"
   ]
  },
  {
   "cell_type": "code",
   "execution_count": 10,
   "metadata": {
    "collapsed": false
   },
   "outputs": [],
   "source": [
    "def dash2nan(x):\n",
    "    if x == '-':\n",
    "        x = np.nan\n",
    "    else:\n",
    "        x = float(x)/1048576.\n",
    "    \n",
    "    return x\n",
    "df['b'] = df['b'].apply(dash2nan)"
   ]
  },
  {
   "cell_type": "markdown",
   "metadata": {},
   "source": [
    "## Analysis"
   ]
  },
  {
   "cell_type": "markdown",
   "metadata": {},
   "source": [
    "Let's graph the data to visualize what is happening.\n",
    "\n",
    "First let's increase the graph size."
   ]
  },
  {
   "cell_type": "code",
   "execution_count": 11,
   "metadata": {
    "collapsed": false
   },
   "outputs": [],
   "source": [
    "from pylab import *\n",
    "rcParams['figure.figsize'] = 10, 5 # width, height in inches"
   ]
  },
  {
   "cell_type": "markdown",
   "metadata": {},
   "source": [
    "Now let's graph the requests hitting the web server. `10t` will use a 10 minute interval size, so each point on the graph shows the number of requestes in a 10 minute window."
   ]
  },
  {
   "cell_type": "code",
   "execution_count": 77,
   "metadata": {
    "collapsed": false
   },
   "outputs": [
    {
     "data": {
      "text/plain": [
       "<matplotlib.axes.AxesSubplot at 0x133eeb210>"
      ]
     },
     "execution_count": 77,
     "metadata": {},
     "output_type": "execute_result"
    },
    {
     "data": {
      "image/png": "[encoded data removed]",
      "text/plain": [
       "<matplotlib.figure.Figure at 0x134616bd0>"
      ]
     },
     "metadata": {},
     "output_type": "display_data"
    }
   ],
   "source": [
    "df_s = df['Status'].resample('10t', how='count')\n",
    "df_s.plot()\n"
   ]
  },
  {
   "cell_type": "markdown",
   "metadata": {},
   "source": [
    "Above we see that we were peaking at around 4500 requests every 10 minutes, or about 450 requests a minute. There was a quick ramp up as the site climbed to the top position on /r/books, then a drop off overnight (for US timezones), another peak the next day as people woke up, and then a decline as the site fell back down the /r/books page.\n",
    "\n",
    "Let's see how the server held up by looking at some response codes."
   ]
  },
  {
   "cell_type": "code",
   "execution_count": 16,
   "metadata": {
    "collapsed": false
   },
   "outputs": [
    {
     "data": {
      "text/plain": [
       "200    413236\n",
       "502     39769\n",
       "499     37443\n",
       "304     29777\n",
       "302      9467\n",
       "404      8171\n",
       "504      8105\n",
       "301      1743\n",
       "401       677\n",
       "403       262\n",
       "500       171\n",
       "206        51\n",
       "444        40\n",
       "400        20\n",
       "408         4\n",
       "405         1\n",
       "dtype: int64"
      ]
     },
     "execution_count": 16,
     "metadata": {},
     "output_type": "execute_result"
    }
   ],
   "source": [
    "df['Status'].value_counts()"
   ]
  },
  {
   "cell_type": "markdown",
   "metadata": {},
   "source": [
    "There are quite a few 500 errors here. 499 errors are also bad news because it means that the client closed the connection before the page could be served. These are almost certainly because the site wasn't responding in a reasonable timeframe.\n",
    "\n",
    "Let's graph the response codes."
   ]
  },
  {
   "cell_type": "code",
   "execution_count": 17,
   "metadata": {
    "collapsed": false
   },
   "outputs": [
    {
     "data": {
      "text/plain": [
       "<matplotlib.axes.AxesSubplot at 0x10ff9a910>"
      ]
     },
     "execution_count": 17,
     "metadata": {},
     "output_type": "execute_result"
    },
    {
     "data": {
      "image/png": "[encoded data removed]",
      "text/plain": [
       "<matplotlib.figure.Figure at 0x11362f210>"
      ]
     },
     "metadata": {},
     "output_type": "display_data"
    }
   ],
   "source": [
    "grouped_status = df.groupby('Status')\n",
    "grouped_status.size().plot(kind='bar')"
   ]
  },
  {
   "cell_type": "markdown",
   "metadata": {},
   "source": [
    "OK that doesn't look too bad. The vast majority of requests were served a 200 (OK) response.\n",
    "\n",
    "Let's graph the most common response codes over time, with a sample timespan of 1 hour."
   ]
  },
  {
   "cell_type": "code",
   "execution_count": 110,
   "metadata": {
    "collapsed": false
   },
   "outputs": [],
   "source": [
    "t_span = '60t'\n",
    "df_200 = df['Status'][df['Status'] == 200].resample(t_span, how='count')\n",
    "df_502 = df['Status'][df['Status'] == 502].resample(t_span, how='count')\n",
    "df_499 = df['Status'][df['Status'] == 499].resample(t_span, how='count')\n",
    "df_304 = df['Status'][df['Status'] == 304].resample(t_span, how='count')\n",
    "df_302 = df['Status'][df['Status'] == 302].resample(t_span, how='count')\n",
    "df_404 = df['Status'][df['Status'] == 404].resample(t_span, how='count')\n",
    "df_504 = df['Status'][df['Status'] == 504].resample(t_span, how='count')\n",
    "df_301 = df['Status'][df['Status'] == 301].resample(t_span, how='count')\n",
    "\n",
    "\n",
    "status_df = DataFrame({'OK': df_200, \n",
    "                       'Bad Gateway': df_502, \n",
    "                       'Client Closed': df_499, \n",
    "                       'Not Modified': df_304, \n",
    "                       'Found': df_302, \n",
    "                       'Not Found': df_404,\n",
    "                       'Gateway Timeout': df_504,\n",
    "                       'Moved Permenantely': df_301})"
   ]
  },
  {
   "cell_type": "code",
   "execution_count": 111,
   "metadata": {
    "collapsed": false
   },
   "outputs": [
    {
     "data": {
      "text/html": [
       "<div style=\"max-height:1000px;max-width:1500px;overflow:auto;\">\n",
       "<table border=\"1\" class=\"dataframe\">\n",
       "  <thead>\n",
       "    <tr style=\"text-align: right;\">\n",
       "      <th></th>\n",
       "      <th>Bad Gateway</th>\n",
       "      <th>Client Closed</th>\n",
       "      <th>Found</th>\n",
       "      <th>Gateway Timeout</th>\n",
       "      <th>Moved Permenantely</th>\n",
       "      <th>Not Found</th>\n",
       "      <th>Not Modified</th>\n",
       "      <th>OK</th>\n",
       "    </tr>\n",
       "    <tr>\n",
       "      <th>Time</th>\n",
       "      <th></th>\n",
       "      <th></th>\n",
       "      <th></th>\n",
       "      <th></th>\n",
       "      <th></th>\n",
       "      <th></th>\n",
       "      <th></th>\n",
       "      <th></th>\n",
       "    </tr>\n",
       "  </thead>\n",
       "  <tbody>\n",
       "    <tr>\n",
       "      <th>2014-02-21 06:00:00</th>\n",
       "      <td> 0</td>\n",
       "      <td> 0</td>\n",
       "      <td> 0</td>\n",
       "      <td> 0</td>\n",
       "      <td> 0</td>\n",
       "      <td> 0</td>\n",
       "      <td> 0</td>\n",
       "      <td>  3</td>\n",
       "    </tr>\n",
       "    <tr>\n",
       "      <th>2014-02-21 07:00:00</th>\n",
       "      <td> 0</td>\n",
       "      <td> 0</td>\n",
       "      <td> 3</td>\n",
       "      <td> 0</td>\n",
       "      <td> 0</td>\n",
       "      <td> 4</td>\n",
       "      <td> 1</td>\n",
       "      <td> 29</td>\n",
       "    </tr>\n",
       "    <tr>\n",
       "      <th>2014-02-21 08:00:00</th>\n",
       "      <td> 0</td>\n",
       "      <td> 0</td>\n",
       "      <td> 0</td>\n",
       "      <td> 0</td>\n",
       "      <td> 0</td>\n",
       "      <td> 0</td>\n",
       "      <td> 0</td>\n",
       "      <td>  2</td>\n",
       "    </tr>\n",
       "    <tr>\n",
       "      <th>2014-02-21 09:00:00</th>\n",
       "      <td> 0</td>\n",
       "      <td> 0</td>\n",
       "      <td> 0</td>\n",
       "      <td> 0</td>\n",
       "      <td> 0</td>\n",
       "      <td> 2</td>\n",
       "      <td> 0</td>\n",
       "      <td>  3</td>\n",
       "    </tr>\n",
       "    <tr>\n",
       "      <th>2014-02-21 10:00:00</th>\n",
       "      <td> 0</td>\n",
       "      <td> 6</td>\n",
       "      <td> 0</td>\n",
       "      <td> 3</td>\n",
       "      <td> 0</td>\n",
       "      <td> 0</td>\n",
       "      <td> 0</td>\n",
       "      <td>  2</td>\n",
       "    </tr>\n",
       "  </tbody>\n",
       "</table>\n",
       "<p>5 rows × 8 columns</p>\n",
       "</div>"
      ],
      "text/plain": [
       "                     Bad Gateway  Client Closed  Found  Gateway Timeout  \\\n",
       "Time                                                                      \n",
       "2014-02-21 06:00:00            0              0      0                0   \n",
       "2014-02-21 07:00:00            0              0      3                0   \n",
       "2014-02-21 08:00:00            0              0      0                0   \n",
       "2014-02-21 09:00:00            0              0      0                0   \n",
       "2014-02-21 10:00:00            0              6      0                3   \n",
       "\n",
       "                     Moved Permenantely  Not Found  Not Modified  OK  \n",
       "Time                                                                  \n",
       "2014-02-21 06:00:00                   0          0             0   3  \n",
       "2014-02-21 07:00:00                   0          4             1  29  \n",
       "2014-02-21 08:00:00                   0          0             0   2  \n",
       "2014-02-21 09:00:00                   0          2             0   3  \n",
       "2014-02-21 10:00:00                   0          0             0   2  \n",
       "\n",
       "[5 rows x 8 columns]"
      ]
     },
     "execution_count": 111,
     "metadata": {},
     "output_type": "execute_result"
    }
   ],
   "source": [
    "status_df.fillna(0, inplace=True)\n",
    "status_df[0:5]"
   ]
  },
  {
   "cell_type": "code",
   "execution_count": 112,
   "metadata": {
    "collapsed": false
   },
   "outputs": [
    {
     "data": {
      "text/plain": [
       "<matplotlib.legend.Legend at 0x137357850>"
      ]
     },
     "execution_count": 112,
     "metadata": {},
     "output_type": "execute_result"
    },
    {
     "data": {
      "image/png": "[encoded data removed]",
      "text/plain": [
       "<matplotlib.figure.Figure at 0x1372567d0>"
      ]
     },
     "metadata": {},
     "output_type": "display_data"
    }
   ],
   "source": [
    "status_df.plot()\n",
    "legend()"
   ]
  },
  {
   "cell_type": "markdown",
   "metadata": {},
   "source": [
    "This doesn't look too bad either, but it's hard to make sense of what is going on with so many different response codes. Let's group them into success (web server handled it as expected) and failure (web server error or client closed request).\n",
    "\n",
    "    200    413236    Success    OK \n",
    "    502     39769    Failure    Bad Gateway\n",
    "    499     37443    Failure    Client closed request\n",
    "    304     29777    Success    Not modified\n",
    "    302      9467    Success    Found\n",
    "    404      8171    Success    Not Found\n",
    "    504      8105    Failure    Gateway timeout\n",
    "    301      1743    Success    Moved permanently\n",
    "    401       677    Success    Unauthorized\n",
    "    403       262    Success    Forbidden\n",
    "    500       171    Failure    Internal server error\n",
    "    206        51    Success    Partial content\n",
    "    444        40    Failure?   No response\n",
    "    400        20    Success?   Bad request\n",
    "    408         4    Success?   Request timeout\n",
    "    405         1    Success?   Method not allowed"
   ]
  },
  {
   "cell_type": "code",
   "execution_count": 113,
   "metadata": {
    "collapsed": false
   },
   "outputs": [
    {
     "data": {
      "text/plain": [
       "<matplotlib.legend.Legend at 0x139854290>"
      ]
     },
     "execution_count": 113,
     "metadata": {},
     "output_type": "execute_result"
    },
    {
     "data": {
      "image/png": "[encoded data removed]",
      "text/plain": [
       "<matplotlib.figure.Figure at 0x139854950>"
      ]
     },
     "metadata": {},
     "output_type": "display_data"
    }
   ],
   "source": [
    "success_df = df[df['Status'].isin([200, 304, 302, 404, 301, 401, 403, 206, 444, 400, 408, 405])].resample(t_span, how='count')\n",
    "fail_df = df[df['Status'].isin([502, 499, 504, 500, 444])].resample(t_span, how='count')\n",
    "success_df.plot(label=\"Success\")\n",
    "fail_df.plot(label=\"Failure\")\n",
    "legend()"
   ]
  },
  {
   "cell_type": "markdown",
   "metadata": {},
   "source": [
    "Those are the requests served by nginx, so it includes both static files like css and javascript and dynamic content that was passed off to the Django app running on uwsgi. Let's filter out the static files and see how uwsgi did. In this case almost all of the static files have `/static/` in the path with a few exceptions such as the `favicon.ico`.\n"
   ]
  },
  {
   "cell_type": "code",
   "execution_count": 114,
   "metadata": {
    "collapsed": false
   },
   "outputs": [
    {
     "data": {
      "text/html": [
       "<div style=\"max-height:1000px;max-width:1500px;overflow:auto;\">\n",
       "<table border=\"1\" class=\"dataframe\">\n",
       "  <thead>\n",
       "    <tr style=\"text-align: right;\">\n",
       "      <th></th>\n",
       "      <th>Status</th>\n",
       "      <th>b</th>\n",
       "      <th>Request</th>\n",
       "    </tr>\n",
       "    <tr>\n",
       "      <th>Time</th>\n",
       "      <th></th>\n",
       "      <th></th>\n",
       "      <th></th>\n",
       "    </tr>\n",
       "  </thead>\n",
       "  <tbody>\n",
       "    <tr>\n",
       "      <th>2014-02-21 06:44:53</th>\n",
       "      <td> 200</td>\n",
       "      <td> 0.009944</td>\n",
       "      <td>        GET /work/homepages-maths-year-6/ HTTP/1.0</td>\n",
       "    </tr>\n",
       "    <tr>\n",
       "      <th>2014-02-21 06:53:47</th>\n",
       "      <td> 200</td>\n",
       "      <td> 0.007159</td>\n",
       "      <td>                                    GET / HTTP/1.1</td>\n",
       "    </tr>\n",
       "    <tr>\n",
       "      <th>2014-02-21 06:54:22</th>\n",
       "      <td> 200</td>\n",
       "      <td> 0.007159</td>\n",
       "      <td>                                    GET / HTTP/1.1</td>\n",
       "    </tr>\n",
       "    <tr>\n",
       "      <th>2014-02-21 07:01:28</th>\n",
       "      <td> 200</td>\n",
       "      <td> 0.002501</td>\n",
       "      <td>                                    GET / HTTP/1.1</td>\n",
       "    </tr>\n",
       "    <tr>\n",
       "      <th>2014-02-21 07:02:11</th>\n",
       "      <td> 200</td>\n",
       "      <td> 0.004643</td>\n",
       "      <td>            GET /accounts/create-account/ HTTP/1.1</td>\n",
       "    </tr>\n",
       "    <tr>\n",
       "      <th>2014-02-21 07:03:06</th>\n",
       "      <td> 302</td>\n",
       "      <td> 0.000000</td>\n",
       "      <td>           POST /accounts/create-account/ HTTP/1.1</td>\n",
       "    </tr>\n",
       "    <tr>\n",
       "      <th>2014-02-21 07:03:07</th>\n",
       "      <td> 200</td>\n",
       "      <td> 0.003963</td>\n",
       "      <td>            GET /work/lists/most-popular/ HTTP/1.1</td>\n",
       "    </tr>\n",
       "    <tr>\n",
       "      <th>2014-02-21 07:03:41</th>\n",
       "      <td> 200</td>\n",
       "      <td> 0.001887</td>\n",
       "      <td> GET /work/lists/most-popular/?page=2&amp;querystri...</td>\n",
       "    </tr>\n",
       "    <tr>\n",
       "      <th>2014-02-21 07:03:48</th>\n",
       "      <td> 200</td>\n",
       "      <td> 0.002122</td>\n",
       "      <td> GET /work/lists/most-popular/?page=3&amp;querystri...</td>\n",
       "    </tr>\n",
       "    <tr>\n",
       "      <th>2014-02-21 07:03:55</th>\n",
       "      <td> 200</td>\n",
       "      <td> 0.002145</td>\n",
       "      <td> GET /work/lists/most-popular/?page=4&amp;querystri...</td>\n",
       "    </tr>\n",
       "  </tbody>\n",
       "</table>\n",
       "<p>10 rows × 3 columns</p>\n",
       "</div>"
      ],
      "text/plain": [
       "                     Status         b  \\\n",
       "Time                                    \n",
       "2014-02-21 06:44:53     200  0.009944   \n",
       "2014-02-21 06:53:47     200  0.007159   \n",
       "2014-02-21 06:54:22     200  0.007159   \n",
       "2014-02-21 07:01:28     200  0.002501   \n",
       "2014-02-21 07:02:11     200  0.004643   \n",
       "2014-02-21 07:03:06     302  0.000000   \n",
       "2014-02-21 07:03:07     200  0.003963   \n",
       "2014-02-21 07:03:41     200  0.001887   \n",
       "2014-02-21 07:03:48     200  0.002122   \n",
       "2014-02-21 07:03:55     200  0.002145   \n",
       "\n",
       "                                                               Request  \n",
       "Time                                                                    \n",
       "2014-02-21 06:44:53         GET /work/homepages-maths-year-6/ HTTP/1.0  \n",
       "2014-02-21 06:53:47                                     GET / HTTP/1.1  \n",
       "2014-02-21 06:54:22                                     GET / HTTP/1.1  \n",
       "2014-02-21 07:01:28                                     GET / HTTP/1.1  \n",
       "2014-02-21 07:02:11             GET /accounts/create-account/ HTTP/1.1  \n",
       "2014-02-21 07:03:06            POST /accounts/create-account/ HTTP/1.1  \n",
       "2014-02-21 07:03:07             GET /work/lists/most-popular/ HTTP/1.1  \n",
       "2014-02-21 07:03:41  GET /work/lists/most-popular/?page=2&querystri...  \n",
       "2014-02-21 07:03:48  GET /work/lists/most-popular/?page=3&querystri...  \n",
       "2014-02-21 07:03:55  GET /work/lists/most-popular/?page=4&querystri...  \n",
       "\n",
       "[10 rows x 3 columns]"
      ]
     },
     "execution_count": 114,
     "metadata": {},
     "output_type": "execute_result"
    }
   ],
   "source": [
    "dynamic_df = df[df['Request'].str.contains(r'^GET /(static|favicon.ico)') == False]\n",
    "dynamic_df[0:10]"
   ]
  },
  {
   "cell_type": "code",
   "execution_count": 115,
   "metadata": {
    "collapsed": false
   },
   "outputs": [
    {
     "data": {
      "text/plain": [
       "<matplotlib.legend.Legend at 0x13e8a3bd0>"
      ]
     },
     "execution_count": 115,
     "metadata": {},
     "output_type": "execute_result"
    },
    {
     "data": {
      "image/png": "[encoded data removed]",
      "text/plain": [
       "<matplotlib.figure.Figure at 0x13b566f90>"
      ]
     },
     "metadata": {},
     "output_type": "display_data"
    }
   ],
   "source": [
    "success_df = dynamic_df[dynamic_df['Status'].isin([200, 304, 302, 301, 401])].resample(t_span, how='count')\n",
    "fail_df = dynamic_df[dynamic_df['Status'].isin([502, 499, 504, 500])].resample(t_span, how='count')\n",
    "success_df.plot(label=\"Success\", color=\"g\")\n",
    "fail_df.plot(label=\"Failure\", color=\"r\")\n",
    "legend()"
   ]
  },
  {
   "cell_type": "markdown",
   "metadata": {},
   "source": [
    "Ouch! So during the initial peak, uwsgi is failing more often than not. Let's look at the same data in a stacked bar chart."
   ]
  },
  {
   "cell_type": "code",
   "execution_count": 116,
   "metadata": {
    "collapsed": false
   },
   "outputs": [
    {
     "data": {
      "text/plain": [
       "<matplotlib.axes.AxesSubplot at 0x13cfb5c10>"
      ]
     },
     "execution_count": 116,
     "metadata": {},
     "output_type": "execute_result"
    },
    {
     "data": {
      "image/png": "[encoded data removed]",
      "text/plain": [
       "<matplotlib.figure.Figure at 0x13963a7d0>"
      ]
     },
     "metadata": {},
     "output_type": "display_data"
    }
   ],
   "source": [
    "responses_df = DataFrame({'Success': success_df, \n",
    "                          'Failure': fail_df,\n",
    "                          })\n",
    "responses_df.plot(kind=\"bar\", stacked=True, xticks=(), colors=(\"r\", \"g\",))"
   ]
  },
  {
   "cell_type": "markdown",
   "metadata": {},
   "source": [
    "It looks like about 2,000 requests / hour is all uwsgi can handle before it starts to throw errors. That is only about 1 request every two seconds so that is a pretty big problem.\n",
    "\n",
    "We needed to handle 10,000 requests / hour, but we were only able to handle 2,000 requests / hour. So it looks like we would need roughly 5x the capacity to handle a spike of this size. This is a little bit misleading though because many visitors abandoned the site after hitting 50X errors and long page loads.\n",
    "\n",
    "Here is a view of the same traffic spike from Google Analytics.\n",
    "\n",
    "![Google Analytics Pageviews vs. Pages per Visit](files/data/google-analytics.png)\n",
    "\n",
    "During the spike, pages per visit were roughly half of what they normally were, so let's double the 5x estimate and plan for 10x the capacity to handle this load."
   ]
  },
  {
   "cell_type": "markdown",
   "metadata": {},
   "source": [
    "## Solutions"
   ]
  },
  {
   "cell_type": "markdown",
   "metadata": {},
   "source": [
    "One solution is to upgrade the server running uwsgi and use ten times the number of workers to handle requests, but let's see if we can be a bit smarter.\n",
    "\n",
    "Another solution is to optimize the web app by shortening long-running requests, but I have already picked most of the low hanging fruit there. \n",
    "\n",
    "Let's investigate to see if there are any opportunities to prevent requests from hitting uwsgi in the first place.\n",
    "\n",
    "First let's get a count pages with the most requests.\n"
   ]
  },
  {
   "cell_type": "code",
   "execution_count": 119,
   "metadata": {
    "collapsed": false
   },
   "outputs": [
    {
     "data": {
      "text/plain": [
       "GET / HTTP/1.1                                                  48707\n",
       "GET /work/lists/most-popular/ HTTP/1.1                          19818\n",
       "GET /accounts/create-account/ HTTP/1.1                          10301\n",
       "GET /apple-touch-icon.png HTTP/1.1                               9591\n",
       "POST /accounts/create-account/ HTTP/1.1                          6537\n",
       "GET /work/lists/most-popular/?page=2&querystring_key=page HTTP/1.1     6335\n",
       "GET /work/lists/highest-rated/ HTTP/1.1                          5819\n",
       "GET /accounts/login/ HTTP/1.1                                    3502\n",
       "GET /work/lists/most-popular/?page=3&querystring_key=page HTTP/1.1     3055\n",
       "GET /work/lists/most-popular/?page=4&querystring_key=page HTTP/1.1     2208\n",
       "POST /accounts/login/ HTTP/1.1                                   2071\n",
       "GET /work/lists/most-popular/?page=5&querystring_key=page HTTP/1.1     1699\n",
       "POST /work/rate/195559/ HTTP/1.1                                 1462\n",
       "POST /work/rate/182662/ HTTP/1.1                                 1450\n",
       "POST /work/rate/179080/ HTTP/1.1                                 1429\n",
       "POST /work/rate/172160/ HTTP/1.1                                 1378\n",
       "GET /work/lists/most-popular/?page=6&querystring_key=page HTTP/1.1     1376\n",
       "POST /work/rate/172203/ HTTP/1.1                                 1375\n",
       "POST /work/rate/179079/ HTTP/1.1                                 1313\n",
       "POST /work/rate/174370/ HTTP/1.1                                 1295\n",
       "GET /work/lists/highest-rated/?page=2&querystring_key=page HTTP/1.1     1294\n",
       "POST /work/rate/224637/ HTTP/1.1                                 1232\n",
       "GET /work/lists/most-popular/?page=7&querystring_key=page HTTP/1.1     1173\n",
       "GET /user/recommended/ HTTP/1.1                                  1085\n",
       "POST /work/rate/23173/ HTTP/1.1                                  1076\n",
       "POST /work/rate/172553/ HTTP/1.1                                 1068\n",
       "GET /accounts/edit-profile/ HTTP/1.1                             1045\n",
       "POST /work/rate/8697/ HTTP/1.1                                   1007\n",
       "GET /work/lists/most-popular/?page=8&querystring_key=page HTTP/1.1     1007\n",
       "POST /work/rate/217649/ HTTP/1.1                                  969\n",
       "POST /work/rate/172161/ HTTP/1.1                                  937\n",
       "POST /work/rate/25922/ HTTP/1.1                                   904\n",
       "GET /work/lists/most-popular/?page=9&querystring_key=page HTTP/1.1      892\n",
       "POST /work/rate/1724/ HTTP/1.1                                    848\n",
       "POST /work/rate/172335/ HTTP/1.1                                  796\n",
       "GET /work/lists/most-popular/?page=10&querystring_key=page HTTP/1.1      793\n",
       "GET /work/the-name-of-the-wind-kingkiller-chronicles-day-1/ HTTP/1.1      790\n",
       "GET /work/lists/most-popular/?utm_campaign=webapp&utm_medium=email&utm_source=Welcome+to+Author+Alcove HTTP/1.1      784\n",
       "GET /apple-touch-icon-precomposed.png HTTP/1.1                    768\n",
       "POST /work/rate/171563/ HTTP/1.1                                  762\n",
       "dtype: int64"
      ]
     },
     "execution_count": 119,
     "metadata": {},
     "output_type": "execute_result"
    }
   ],
   "source": [
    "dynamic_df['Request'].value_counts().head(40)"
   ]
  },
  {
   "cell_type": "markdown",
   "metadata": {},
   "source": [
    "There isn't much that can be done with the POST requests - they need to hit uwsgi so we can save new accounts or ratings in the database. So let's move on to the GET requests. There are two basic techniques for having nginx serve these pages. First, we could have uwsgi store the fully rendered page in memcached or similar, then have nginx try to pull the page from memcached and falling back to uwsgi if the page wasn't in the cache. The second idea is to have uwsgi create a static file, and then let nginx serve that if it exists. Unfortunately, in this case both of those solutions are problematic. It is beyond the scope of this notebook to go into details (hopefully I will have a separate blog post on that soon), but the gist is that for most of these pages, the content changes depending on who is viewing them, so they can't readily be cached at the page level.\n",
    "\n",
    "The biggest gain would be to make the homepage static. The homepage will redirect to a user's recommended page if they are already logged in, but we could possibly detect logged in users with nginx via the http headers and only serve the static page to logged out visitors. Let's see what proportion of visitors who hit the homepage were logged in already."
   ]
  },
  {
   "cell_type": "code",
   "execution_count": 140,
   "metadata": {
    "collapsed": false
   },
   "outputs": [
    {
     "data": {
      "text/plain": [
       "200    19331\n",
       "502    12559\n",
       "499    10781\n",
       "302     3053\n",
       "504     2036\n",
       "301      946\n",
       "500        1\n",
       "dtype: int64"
      ]
     },
     "execution_count": 140,
     "metadata": {},
     "output_type": "execute_result"
    }
   ],
   "source": [
    "dynamic_df[dynamic_df['Request'].str.contains('GET / HTTP/1.1')]['Status'].value_counts()"
   ]
  },
  {
   "cell_type": "markdown",
   "metadata": {},
   "source": [
    "Of the visitors who were able to access the homepage, (19331 / (3053 + 946 + 19331)) * 100 = 83% were logged out. So that nginx configuration change would have saved a bit more than 40,000 requests.\n",
    "\n",
    "Out of how many total?"
   ]
  },
  {
   "cell_type": "code",
   "execution_count": 141,
   "metadata": {
    "collapsed": false
   },
   "outputs": [
    {
     "data": {
      "text/plain": [
       "Status     307402\n",
       "b          307402\n",
       "Request    307402\n",
       "dtype: int64"
      ]
     },
     "execution_count": 141,
     "metadata": {},
     "output_type": "execute_result"
    }
   ],
   "source": [
    "dynamic_df.count()"
   ]
  },
  {
   "cell_type": "markdown",
   "metadata": {},
   "source": [
    "So that change alone would offload 13% of uwsgi's request load to nginx. That's a good start.\n",
    "\n",
    "Another thing that jumps out is that `/apple-touch-icon.png` and `/apple-touch-icon-precomposed.png` don't actually exist have to be passed off to uwsgi before they 404. Setting up nginx to serve anything ending in `.png` will save some requests. Let's see if there are any other files like that."
   ]
  },
  {
   "cell_type": "code",
   "execution_count": 134,
   "metadata": {
    "collapsed": false
   },
   "outputs": [
    {
     "data": {
      "text/plain": [
       "GET /apple-touch-icon.png HTTP/1.1                        9591\n",
       "GET /apple-touch-icon-precomposed.png HTTP/1.1             768\n",
       "GET /apple-touch-icon-120x120-precomposed.png HTTP/1.1     103\n",
       "GET /apple-touch-icon-120x120.png HTTP/1.1                  91\n",
       "GET /apple-touch-icon-152x152-precomposed.png HTTP/1.1      36\n",
       "GET /browserconfig.xml HTTP/1.1                             35\n",
       "GET /apple-touch-icon-152x152.png HTTP/1.1                  33\n",
       "GET /blog/images/logo3.png HTTP/1.1                         18\n",
       "GET /apple-touch-icon-76x76-precomposed.png HTTP/1.1        14\n",
       "GET /blog/atom.xml HTTP/1.1                                 13\n",
       "dtype: int64"
      ]
     },
     "execution_count": 134,
     "metadata": {},
     "output_type": "execute_result"
    }
   ],
   "source": [
    "dynamic_df[dynamic_df['Request'].str.contains(r'(png |xml |gif )')]['Request'].value_counts().head(10)"
   ]
  },
  {
   "cell_type": "markdown",
   "metadata": {},
   "source": [
    "Let's see how many requests that will save."
   ]
  },
  {
   "cell_type": "code",
   "execution_count": 137,
   "metadata": {
    "collapsed": false
   },
   "outputs": [
    {
     "data": {
      "text/plain": [
       "Status     10870\n",
       "b          10870\n",
       "Request    10870\n",
       "dtype: int64"
      ]
     },
     "execution_count": 137,
     "metadata": {},
     "output_type": "execute_result"
    }
   ],
   "source": [
    "dynamic_df[dynamic_df['Request'].str.contains(r'(png |xml |gif )')].count()"
   ]
  },
  {
   "cell_type": "markdown",
   "metadata": {},
   "source": [
    "That is another 3.5% of requests.\n",
    "\n",
    "Between those two changes we will save 16.5% of requests from hitting uwsgi. It isn't enough to prevent the need for a server upgrade, but it does get us a bit closer."
   ]
  }
 ],
 "metadata": {
  "kernelspec": {
   "display_name": "Python 3",
   "language": "python",
   "name": "python3"
  },
  "language_info": {
   "codemirror_mode": {
    "name": "ipython",
    "version": 3
   },
   "file_extension": ".py",
   "mimetype": "text/x-python",
   "name": "python",
   "nbconvert_exporter": "python",
   "pygments_lexer": "ipython3",
   "version": "3.5.1"
  }
 },
 "nbformat": 4,
 "nbformat_minor": 0
}
